{
 "cells": [
  {
   "cell_type": "markdown",
   "id": "3bf32643-4df1-4f5f-96fc-7e32ded1ec44",
   "metadata": {},
   "source": [
    "## Series"
   ]
  },
  {
   "cell_type": "code",
   "execution_count": 1,
   "id": "91929b57-4be0-41bc-9798-9eb3cf6fa32a",
   "metadata": {
    "tags": []
   },
   "outputs": [],
   "source": [
    "import pandas as pd\n",
    "import numpy as np"
   ]
  },
  {
   "cell_type": "code",
   "execution_count": 2,
   "id": "50a63a76-8fff-43d1-8fb2-32c286f20abb",
   "metadata": {
    "tags": []
   },
   "outputs": [],
   "source": [
    "labels = ['a','b','c']\n",
    "\n",
    "minha_lista = [10,20,30]\n",
    "\n",
    "arr = np.array([10,20,30])\n",
    "\n",
    "d = {'a':10, 'b':20, 'c':30}"
   ]
  },
  {
   "cell_type": "code",
   "execution_count": 3,
   "id": "4763c272-9f98-4c0a-bc51-e7115eb43a05",
   "metadata": {
    "tags": []
   },
   "outputs": [
    {
     "data": {
      "text/plain": [
       "0    a\n",
       "1    b\n",
       "2    c\n",
       "dtype: object"
      ]
     },
     "execution_count": 3,
     "metadata": {},
     "output_type": "execute_result"
    }
   ],
   "source": [
    "pd.Series(labels)"
   ]
  },
  {
   "cell_type": "code",
   "execution_count": 4,
   "id": "169dfb12-bd02-41f5-8729-75ce86f758a7",
   "metadata": {
    "tags": []
   },
   "outputs": [
    {
     "data": {
      "text/plain": [
       "10    a\n",
       "20    b\n",
       "30    c\n",
       "dtype: object"
      ]
     },
     "execution_count": 4,
     "metadata": {},
     "output_type": "execute_result"
    }
   ],
   "source": [
    "pd.Series(data=labels, index=minha_lista)"
   ]
  },
  {
   "cell_type": "code",
   "execution_count": 6,
   "id": "068f39fc-3ed0-42f6-91c9-c178f2708129",
   "metadata": {
    "tags": []
   },
   "outputs": [
    {
     "data": {
      "text/plain": [
       "10    a\n",
       "20    b\n",
       "30    c\n",
       "dtype: object"
      ]
     },
     "execution_count": 6,
     "metadata": {},
     "output_type": "execute_result"
    }
   ],
   "source": [
    "#shift + tab + mouse em cima\n",
    "pd.Series(labels, minha_lista)"
   ]
  },
  {
   "cell_type": "code",
   "execution_count": 8,
   "id": "479ea5bc-b079-41a4-90e7-5f02716197e8",
   "metadata": {
    "tags": []
   },
   "outputs": [
    {
     "data": {
      "text/plain": [
       "a    10\n",
       "b    20\n",
       "c    30\n",
       "dtype: int64"
      ]
     },
     "execution_count": 8,
     "metadata": {},
     "output_type": "execute_result"
    }
   ],
   "source": [
    "pd.Series(d)"
   ]
  },
  {
   "cell_type": "code",
   "execution_count": 9,
   "id": "58950694-5374-40b0-8d5f-47d00a8d9f85",
   "metadata": {
    "tags": []
   },
   "outputs": [],
   "source": [
    "ser1 = pd.Series([1,2,3,4], index=['EUA', 'Alemanha', 'USSR', 'Japão'])"
   ]
  },
  {
   "cell_type": "code",
   "execution_count": 10,
   "id": "fa2238b0-7081-497b-9882-58609fb5b51c",
   "metadata": {
    "tags": []
   },
   "outputs": [
    {
     "data": {
      "text/plain": [
       "EUA         1\n",
       "Alemanha    2\n",
       "USSR        3\n",
       "Japão       4\n",
       "dtype: int64"
      ]
     },
     "execution_count": 10,
     "metadata": {},
     "output_type": "execute_result"
    }
   ],
   "source": [
    "ser1"
   ]
  },
  {
   "cell_type": "code",
   "execution_count": 12,
   "id": "8603f530-5b85-4899-a01a-fecbcb8701bb",
   "metadata": {
    "tags": []
   },
   "outputs": [],
   "source": [
    "ser2 = pd.Series([1,2,3,4], index=['EUA', 'Alemanha', 'Italia', 'Japão'])"
   ]
  },
  {
   "cell_type": "code",
   "execution_count": 13,
   "id": "2a7cae13-22cc-4f08-81d7-2ed5abe566ce",
   "metadata": {
    "tags": []
   },
   "outputs": [
    {
     "data": {
      "text/plain": [
       "EUA         1\n",
       "Alemanha    2\n",
       "Italia      3\n",
       "Japão       4\n",
       "dtype: int64"
      ]
     },
     "execution_count": 13,
     "metadata": {},
     "output_type": "execute_result"
    }
   ],
   "source": [
    "ser2"
   ]
  },
  {
   "cell_type": "code",
   "execution_count": 14,
   "id": "10a76f69-d12c-435c-b1dd-dfd7a70c902e",
   "metadata": {
    "tags": []
   },
   "outputs": [
    {
     "data": {
      "text/plain": [
       "1"
      ]
     },
     "execution_count": 14,
     "metadata": {},
     "output_type": "execute_result"
    }
   ],
   "source": [
    "ser1['EUA']"
   ]
  },
  {
   "cell_type": "code",
   "execution_count": 17,
   "id": "9ce9c0bb-6a41-400c-88b2-7a522716adb1",
   "metadata": {
    "tags": []
   },
   "outputs": [
    {
     "data": {
      "text/plain": [
       "Alemanha    2\n",
       "USSR        3\n",
       "dtype: int64"
      ]
     },
     "execution_count": 17,
     "metadata": {},
     "output_type": "execute_result"
    }
   ],
   "source": [
    "ser1[['Alemanha', 'USSR']]"
   ]
  },
  {
   "cell_type": "code",
   "execution_count": 18,
   "id": "a5941fc5-3d42-4345-8cbe-1fb82e27746e",
   "metadata": {
    "tags": []
   },
   "outputs": [
    {
     "data": {
      "text/plain": [
       "Alemanha    4.0\n",
       "EUA         2.0\n",
       "Italia      NaN\n",
       "Japão       8.0\n",
       "USSR        NaN\n",
       "dtype: float64"
      ]
     },
     "execution_count": 18,
     "metadata": {},
     "output_type": "execute_result"
    }
   ],
   "source": [
    "ser1 + ser2"
   ]
  },
  {
   "cell_type": "code",
   "execution_count": null,
   "id": "75d75242-227e-4b49-9498-36d035cd4f02",
   "metadata": {},
   "outputs": [],
   "source": []
  }
 ],
 "metadata": {
  "kernelspec": {
   "display_name": "Python 3 (ipykernel)",
   "language": "python",
   "name": "python3"
  },
  "language_info": {
   "codemirror_mode": {
    "name": "ipython",
    "version": 3
   },
   "file_extension": ".py",
   "mimetype": "text/x-python",
   "name": "python",
   "nbconvert_exporter": "python",
   "pygments_lexer": "ipython3",
   "version": "3.11.5"
  }
 },
 "nbformat": 4,
 "nbformat_minor": 5
}
