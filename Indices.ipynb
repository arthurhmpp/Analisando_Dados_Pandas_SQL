{
 "cells": [
  {
   "cell_type": "markdown",
   "id": "034c087e-3bf0-409a-84a9-845978d0f2b2",
   "metadata": {},
   "source": [
    "## Indices"
   ]
  },
  {
   "cell_type": "code",
   "execution_count": 2,
   "id": "29f50ad2-0373-4f80-a636-362073450935",
   "metadata": {},
   "outputs": [],
   "source": [
    "import pandas as pd\n",
    "from numpy.random import randn"
   ]
  },
  {
   "cell_type": "code",
   "execution_count": 5,
   "id": "1860c6de-3810-449d-a31c-2dc2943ec047",
   "metadata": {
    "tags": []
   },
   "outputs": [],
   "source": [
    "df = pd.DataFrame(randn(5,4), index=[\"A\", \"B\", \"C\", \"D\", \"E\"], columns=\"W X Y Z\".split())"
   ]
  },
  {
   "cell_type": "code",
   "execution_count": 6,
   "id": "8b74ac8c-390a-4141-b7e9-d2b0d1854865",
   "metadata": {
    "tags": []
   },
   "outputs": [
    {
     "data": {
      "text/html": [
       "<div>\n",
       "<style scoped>\n",
       "    .dataframe tbody tr th:only-of-type {\n",
       "        vertical-align: middle;\n",
       "    }\n",
       "\n",
       "    .dataframe tbody tr th {\n",
       "        vertical-align: top;\n",
       "    }\n",
       "\n",
       "    .dataframe thead th {\n",
       "        text-align: right;\n",
       "    }\n",
       "</style>\n",
       "<table border=\"1\" class=\"dataframe\">\n",
       "  <thead>\n",
       "    <tr style=\"text-align: right;\">\n",
       "      <th></th>\n",
       "      <th>W</th>\n",
       "      <th>X</th>\n",
       "      <th>Y</th>\n",
       "      <th>Z</th>\n",
       "    </tr>\n",
       "  </thead>\n",
       "  <tbody>\n",
       "    <tr>\n",
       "      <th>A</th>\n",
       "      <td>1.668579</td>\n",
       "      <td>-0.799006</td>\n",
       "      <td>-1.165273</td>\n",
       "      <td>0.662561</td>\n",
       "    </tr>\n",
       "    <tr>\n",
       "      <th>B</th>\n",
       "      <td>0.218352</td>\n",
       "      <td>-0.086417</td>\n",
       "      <td>0.018660</td>\n",
       "      <td>-0.442668</td>\n",
       "    </tr>\n",
       "    <tr>\n",
       "      <th>C</th>\n",
       "      <td>0.414029</td>\n",
       "      <td>-0.814785</td>\n",
       "      <td>-0.454954</td>\n",
       "      <td>-0.513791</td>\n",
       "    </tr>\n",
       "    <tr>\n",
       "      <th>D</th>\n",
       "      <td>0.243552</td>\n",
       "      <td>0.271245</td>\n",
       "      <td>0.756073</td>\n",
       "      <td>0.015696</td>\n",
       "    </tr>\n",
       "    <tr>\n",
       "      <th>E</th>\n",
       "      <td>-1.531999</td>\n",
       "      <td>-1.718863</td>\n",
       "      <td>0.350759</td>\n",
       "      <td>-1.594396</td>\n",
       "    </tr>\n",
       "  </tbody>\n",
       "</table>\n",
       "</div>"
      ],
      "text/plain": [
       "          W         X         Y         Z\n",
       "A  1.668579 -0.799006 -1.165273  0.662561\n",
       "B  0.218352 -0.086417  0.018660 -0.442668\n",
       "C  0.414029 -0.814785 -0.454954 -0.513791\n",
       "D  0.243552  0.271245  0.756073  0.015696\n",
       "E -1.531999 -1.718863  0.350759 -1.594396"
      ]
     },
     "execution_count": 6,
     "metadata": {},
     "output_type": "execute_result"
    }
   ],
   "source": [
    "df"
   ]
  },
  {
   "cell_type": "code",
   "execution_count": 4,
   "id": "125ea378-8d02-4743-9cd8-3e95236ac237",
   "metadata": {
    "tags": []
   },
   "outputs": [
    {
     "data": {
      "text/plain": [
       "Index(['A', 'B', 'C', 'D', 'E'], dtype='object')"
      ]
     },
     "execution_count": 4,
     "metadata": {},
     "output_type": "execute_result"
    }
   ],
   "source": [
    "df.index"
   ]
  },
  {
   "cell_type": "code",
   "execution_count": 7,
   "id": "acb03011-ea8f-4ac5-9111-242513926f1c",
   "metadata": {
    "tags": []
   },
   "outputs": [
    {
     "data": {
      "text/plain": [
       "Index(['W', 'X', 'Y', 'Z'], dtype='object')"
      ]
     },
     "execution_count": 7,
     "metadata": {},
     "output_type": "execute_result"
    }
   ],
   "source": [
    "df.columns"
   ]
  },
  {
   "cell_type": "code",
   "execution_count": 10,
   "id": "4587fce0-0de2-417a-8e34-23dd68cee962",
   "metadata": {
    "tags": []
   },
   "outputs": [],
   "source": [
    "df.reset_index(inplace=True)"
   ]
  },
  {
   "cell_type": "code",
   "execution_count": 11,
   "id": "7ed1367f-ff94-463f-8e54-1413a8b25628",
   "metadata": {
    "tags": []
   },
   "outputs": [
    {
     "data": {
      "text/html": [
       "<div>\n",
       "<style scoped>\n",
       "    .dataframe tbody tr th:only-of-type {\n",
       "        vertical-align: middle;\n",
       "    }\n",
       "\n",
       "    .dataframe tbody tr th {\n",
       "        vertical-align: top;\n",
       "    }\n",
       "\n",
       "    .dataframe thead th {\n",
       "        text-align: right;\n",
       "    }\n",
       "</style>\n",
       "<table border=\"1\" class=\"dataframe\">\n",
       "  <thead>\n",
       "    <tr style=\"text-align: right;\">\n",
       "      <th></th>\n",
       "      <th>index</th>\n",
       "      <th>W</th>\n",
       "      <th>X</th>\n",
       "      <th>Y</th>\n",
       "      <th>Z</th>\n",
       "    </tr>\n",
       "  </thead>\n",
       "  <tbody>\n",
       "    <tr>\n",
       "      <th>0</th>\n",
       "      <td>A</td>\n",
       "      <td>1.668579</td>\n",
       "      <td>-0.799006</td>\n",
       "      <td>-1.165273</td>\n",
       "      <td>0.662561</td>\n",
       "    </tr>\n",
       "    <tr>\n",
       "      <th>1</th>\n",
       "      <td>B</td>\n",
       "      <td>0.218352</td>\n",
       "      <td>-0.086417</td>\n",
       "      <td>0.018660</td>\n",
       "      <td>-0.442668</td>\n",
       "    </tr>\n",
       "    <tr>\n",
       "      <th>2</th>\n",
       "      <td>C</td>\n",
       "      <td>0.414029</td>\n",
       "      <td>-0.814785</td>\n",
       "      <td>-0.454954</td>\n",
       "      <td>-0.513791</td>\n",
       "    </tr>\n",
       "    <tr>\n",
       "      <th>3</th>\n",
       "      <td>D</td>\n",
       "      <td>0.243552</td>\n",
       "      <td>0.271245</td>\n",
       "      <td>0.756073</td>\n",
       "      <td>0.015696</td>\n",
       "    </tr>\n",
       "    <tr>\n",
       "      <th>4</th>\n",
       "      <td>E</td>\n",
       "      <td>-1.531999</td>\n",
       "      <td>-1.718863</td>\n",
       "      <td>0.350759</td>\n",
       "      <td>-1.594396</td>\n",
       "    </tr>\n",
       "  </tbody>\n",
       "</table>\n",
       "</div>"
      ],
      "text/plain": [
       "  index         W         X         Y         Z\n",
       "0     A  1.668579 -0.799006 -1.165273  0.662561\n",
       "1     B  0.218352 -0.086417  0.018660 -0.442668\n",
       "2     C  0.414029 -0.814785 -0.454954 -0.513791\n",
       "3     D  0.243552  0.271245  0.756073  0.015696\n",
       "4     E -1.531999 -1.718863  0.350759 -1.594396"
      ]
     },
     "execution_count": 11,
     "metadata": {},
     "output_type": "execute_result"
    }
   ],
   "source": [
    "df"
   ]
  },
  {
   "cell_type": "code",
   "execution_count": 12,
   "id": "d50d2630-299a-47f0-a519-3bed214954c9",
   "metadata": {
    "tags": []
   },
   "outputs": [],
   "source": [
    "df.set_index('index', inplace=True)"
   ]
  },
  {
   "cell_type": "code",
   "execution_count": 13,
   "id": "f4c18708-4068-4b0e-9164-fb708b79c4ea",
   "metadata": {
    "tags": []
   },
   "outputs": [
    {
     "data": {
      "text/html": [
       "<div>\n",
       "<style scoped>\n",
       "    .dataframe tbody tr th:only-of-type {\n",
       "        vertical-align: middle;\n",
       "    }\n",
       "\n",
       "    .dataframe tbody tr th {\n",
       "        vertical-align: top;\n",
       "    }\n",
       "\n",
       "    .dataframe thead th {\n",
       "        text-align: right;\n",
       "    }\n",
       "</style>\n",
       "<table border=\"1\" class=\"dataframe\">\n",
       "  <thead>\n",
       "    <tr style=\"text-align: right;\">\n",
       "      <th></th>\n",
       "      <th>W</th>\n",
       "      <th>X</th>\n",
       "      <th>Y</th>\n",
       "      <th>Z</th>\n",
       "    </tr>\n",
       "    <tr>\n",
       "      <th>index</th>\n",
       "      <th></th>\n",
       "      <th></th>\n",
       "      <th></th>\n",
       "      <th></th>\n",
       "    </tr>\n",
       "  </thead>\n",
       "  <tbody>\n",
       "    <tr>\n",
       "      <th>A</th>\n",
       "      <td>1.668579</td>\n",
       "      <td>-0.799006</td>\n",
       "      <td>-1.165273</td>\n",
       "      <td>0.662561</td>\n",
       "    </tr>\n",
       "    <tr>\n",
       "      <th>B</th>\n",
       "      <td>0.218352</td>\n",
       "      <td>-0.086417</td>\n",
       "      <td>0.018660</td>\n",
       "      <td>-0.442668</td>\n",
       "    </tr>\n",
       "    <tr>\n",
       "      <th>C</th>\n",
       "      <td>0.414029</td>\n",
       "      <td>-0.814785</td>\n",
       "      <td>-0.454954</td>\n",
       "      <td>-0.513791</td>\n",
       "    </tr>\n",
       "    <tr>\n",
       "      <th>D</th>\n",
       "      <td>0.243552</td>\n",
       "      <td>0.271245</td>\n",
       "      <td>0.756073</td>\n",
       "      <td>0.015696</td>\n",
       "    </tr>\n",
       "    <tr>\n",
       "      <th>E</th>\n",
       "      <td>-1.531999</td>\n",
       "      <td>-1.718863</td>\n",
       "      <td>0.350759</td>\n",
       "      <td>-1.594396</td>\n",
       "    </tr>\n",
       "  </tbody>\n",
       "</table>\n",
       "</div>"
      ],
      "text/plain": [
       "              W         X         Y         Z\n",
       "index                                        \n",
       "A      1.668579 -0.799006 -1.165273  0.662561\n",
       "B      0.218352 -0.086417  0.018660 -0.442668\n",
       "C      0.414029 -0.814785 -0.454954 -0.513791\n",
       "D      0.243552  0.271245  0.756073  0.015696\n",
       "E     -1.531999 -1.718863  0.350759 -1.594396"
      ]
     },
     "execution_count": 13,
     "metadata": {},
     "output_type": "execute_result"
    }
   ],
   "source": [
    "df"
   ]
  },
  {
   "cell_type": "code",
   "execution_count": 14,
   "id": "1bb6699a-77ff-4e49-aabc-df550a7550c6",
   "metadata": {
    "tags": []
   },
   "outputs": [],
   "source": [
    "novoind = ' CA NY WY OR CO'.split()"
   ]
  },
  {
   "cell_type": "code",
   "execution_count": 15,
   "id": "f2c04dec-894e-475b-9412-0f8c5b0ca461",
   "metadata": {
    "tags": []
   },
   "outputs": [
    {
     "data": {
      "text/plain": [
       "['CA', 'NY', 'WY', 'OR', 'CO']"
      ]
     },
     "execution_count": 15,
     "metadata": {},
     "output_type": "execute_result"
    }
   ],
   "source": [
    "novoind"
   ]
  },
  {
   "cell_type": "code",
   "execution_count": 16,
   "id": "cca2fd5c-b38c-4b04-b3e8-e1aaf1d9df1b",
   "metadata": {
    "tags": []
   },
   "outputs": [],
   "source": [
    "df['novo_index'] = novoind"
   ]
  },
  {
   "cell_type": "code",
   "execution_count": 17,
   "id": "500abb29-06ec-4286-8010-09dcc7a22a7d",
   "metadata": {
    "tags": []
   },
   "outputs": [
    {
     "data": {
      "text/html": [
       "<div>\n",
       "<style scoped>\n",
       "    .dataframe tbody tr th:only-of-type {\n",
       "        vertical-align: middle;\n",
       "    }\n",
       "\n",
       "    .dataframe tbody tr th {\n",
       "        vertical-align: top;\n",
       "    }\n",
       "\n",
       "    .dataframe thead th {\n",
       "        text-align: right;\n",
       "    }\n",
       "</style>\n",
       "<table border=\"1\" class=\"dataframe\">\n",
       "  <thead>\n",
       "    <tr style=\"text-align: right;\">\n",
       "      <th></th>\n",
       "      <th>W</th>\n",
       "      <th>X</th>\n",
       "      <th>Y</th>\n",
       "      <th>Z</th>\n",
       "      <th>novo_index</th>\n",
       "    </tr>\n",
       "    <tr>\n",
       "      <th>index</th>\n",
       "      <th></th>\n",
       "      <th></th>\n",
       "      <th></th>\n",
       "      <th></th>\n",
       "      <th></th>\n",
       "    </tr>\n",
       "  </thead>\n",
       "  <tbody>\n",
       "    <tr>\n",
       "      <th>A</th>\n",
       "      <td>1.668579</td>\n",
       "      <td>-0.799006</td>\n",
       "      <td>-1.165273</td>\n",
       "      <td>0.662561</td>\n",
       "      <td>CA</td>\n",
       "    </tr>\n",
       "    <tr>\n",
       "      <th>B</th>\n",
       "      <td>0.218352</td>\n",
       "      <td>-0.086417</td>\n",
       "      <td>0.018660</td>\n",
       "      <td>-0.442668</td>\n",
       "      <td>NY</td>\n",
       "    </tr>\n",
       "    <tr>\n",
       "      <th>C</th>\n",
       "      <td>0.414029</td>\n",
       "      <td>-0.814785</td>\n",
       "      <td>-0.454954</td>\n",
       "      <td>-0.513791</td>\n",
       "      <td>WY</td>\n",
       "    </tr>\n",
       "    <tr>\n",
       "      <th>D</th>\n",
       "      <td>0.243552</td>\n",
       "      <td>0.271245</td>\n",
       "      <td>0.756073</td>\n",
       "      <td>0.015696</td>\n",
       "      <td>OR</td>\n",
       "    </tr>\n",
       "    <tr>\n",
       "      <th>E</th>\n",
       "      <td>-1.531999</td>\n",
       "      <td>-1.718863</td>\n",
       "      <td>0.350759</td>\n",
       "      <td>-1.594396</td>\n",
       "      <td>CO</td>\n",
       "    </tr>\n",
       "  </tbody>\n",
       "</table>\n",
       "</div>"
      ],
      "text/plain": [
       "              W         X         Y         Z novo_index\n",
       "index                                                   \n",
       "A      1.668579 -0.799006 -1.165273  0.662561         CA\n",
       "B      0.218352 -0.086417  0.018660 -0.442668         NY\n",
       "C      0.414029 -0.814785 -0.454954 -0.513791         WY\n",
       "D      0.243552  0.271245  0.756073  0.015696         OR\n",
       "E     -1.531999 -1.718863  0.350759 -1.594396         CO"
      ]
     },
     "execution_count": 17,
     "metadata": {},
     "output_type": "execute_result"
    }
   ],
   "source": [
    "df"
   ]
  },
  {
   "cell_type": "code",
   "execution_count": 20,
   "id": "36d43930-1d71-4586-8b2c-fd0e685a4a4d",
   "metadata": {
    "tags": []
   },
   "outputs": [
    {
     "data": {
      "text/html": [
       "<div>\n",
       "<style scoped>\n",
       "    .dataframe tbody tr th:only-of-type {\n",
       "        vertical-align: middle;\n",
       "    }\n",
       "\n",
       "    .dataframe tbody tr th {\n",
       "        vertical-align: top;\n",
       "    }\n",
       "\n",
       "    .dataframe thead th {\n",
       "        text-align: right;\n",
       "    }\n",
       "</style>\n",
       "<table border=\"1\" class=\"dataframe\">\n",
       "  <thead>\n",
       "    <tr style=\"text-align: right;\">\n",
       "      <th></th>\n",
       "      <th>W</th>\n",
       "      <th>X</th>\n",
       "      <th>Y</th>\n",
       "      <th>Z</th>\n",
       "    </tr>\n",
       "    <tr>\n",
       "      <th>novo_index</th>\n",
       "      <th></th>\n",
       "      <th></th>\n",
       "      <th></th>\n",
       "      <th></th>\n",
       "    </tr>\n",
       "  </thead>\n",
       "  <tbody>\n",
       "    <tr>\n",
       "      <th>CA</th>\n",
       "      <td>1.668579</td>\n",
       "      <td>-0.799006</td>\n",
       "      <td>-1.165273</td>\n",
       "      <td>0.662561</td>\n",
       "    </tr>\n",
       "    <tr>\n",
       "      <th>NY</th>\n",
       "      <td>0.218352</td>\n",
       "      <td>-0.086417</td>\n",
       "      <td>0.018660</td>\n",
       "      <td>-0.442668</td>\n",
       "    </tr>\n",
       "    <tr>\n",
       "      <th>WY</th>\n",
       "      <td>0.414029</td>\n",
       "      <td>-0.814785</td>\n",
       "      <td>-0.454954</td>\n",
       "      <td>-0.513791</td>\n",
       "    </tr>\n",
       "    <tr>\n",
       "      <th>OR</th>\n",
       "      <td>0.243552</td>\n",
       "      <td>0.271245</td>\n",
       "      <td>0.756073</td>\n",
       "      <td>0.015696</td>\n",
       "    </tr>\n",
       "    <tr>\n",
       "      <th>CO</th>\n",
       "      <td>-1.531999</td>\n",
       "      <td>-1.718863</td>\n",
       "      <td>0.350759</td>\n",
       "      <td>-1.594396</td>\n",
       "    </tr>\n",
       "  </tbody>\n",
       "</table>\n",
       "</div>"
      ],
      "text/plain": [
       "                   W         X         Y         Z\n",
       "novo_index                                        \n",
       "CA          1.668579 -0.799006 -1.165273  0.662561\n",
       "NY          0.218352 -0.086417  0.018660 -0.442668\n",
       "WY          0.414029 -0.814785 -0.454954 -0.513791\n",
       "OR          0.243552  0.271245  0.756073  0.015696\n",
       "CO         -1.531999 -1.718863  0.350759 -1.594396"
      ]
     },
     "execution_count": 20,
     "metadata": {},
     "output_type": "execute_result"
    }
   ],
   "source": [
    "df.set_index(\"novo_index\")"
   ]
  },
  {
   "cell_type": "code",
   "execution_count": 21,
   "id": "48fc482e-010c-4046-bb88-ce5618076c7b",
   "metadata": {
    "tags": []
   },
   "outputs": [
    {
     "data": {
      "text/html": [
       "<div>\n",
       "<style scoped>\n",
       "    .dataframe tbody tr th:only-of-type {\n",
       "        vertical-align: middle;\n",
       "    }\n",
       "\n",
       "    .dataframe tbody tr th {\n",
       "        vertical-align: top;\n",
       "    }\n",
       "\n",
       "    .dataframe thead th {\n",
       "        text-align: right;\n",
       "    }\n",
       "</style>\n",
       "<table border=\"1\" class=\"dataframe\">\n",
       "  <thead>\n",
       "    <tr style=\"text-align: right;\">\n",
       "      <th></th>\n",
       "      <th>index</th>\n",
       "      <th>W</th>\n",
       "      <th>X</th>\n",
       "      <th>Y</th>\n",
       "      <th>Z</th>\n",
       "    </tr>\n",
       "    <tr>\n",
       "      <th>novo_index</th>\n",
       "      <th></th>\n",
       "      <th></th>\n",
       "      <th></th>\n",
       "      <th></th>\n",
       "      <th></th>\n",
       "    </tr>\n",
       "  </thead>\n",
       "  <tbody>\n",
       "    <tr>\n",
       "      <th>CA</th>\n",
       "      <td>A</td>\n",
       "      <td>1.668579</td>\n",
       "      <td>-0.799006</td>\n",
       "      <td>-1.165273</td>\n",
       "      <td>0.662561</td>\n",
       "    </tr>\n",
       "    <tr>\n",
       "      <th>NY</th>\n",
       "      <td>B</td>\n",
       "      <td>0.218352</td>\n",
       "      <td>-0.086417</td>\n",
       "      <td>0.018660</td>\n",
       "      <td>-0.442668</td>\n",
       "    </tr>\n",
       "    <tr>\n",
       "      <th>WY</th>\n",
       "      <td>C</td>\n",
       "      <td>0.414029</td>\n",
       "      <td>-0.814785</td>\n",
       "      <td>-0.454954</td>\n",
       "      <td>-0.513791</td>\n",
       "    </tr>\n",
       "    <tr>\n",
       "      <th>OR</th>\n",
       "      <td>D</td>\n",
       "      <td>0.243552</td>\n",
       "      <td>0.271245</td>\n",
       "      <td>0.756073</td>\n",
       "      <td>0.015696</td>\n",
       "    </tr>\n",
       "    <tr>\n",
       "      <th>CO</th>\n",
       "      <td>E</td>\n",
       "      <td>-1.531999</td>\n",
       "      <td>-1.718863</td>\n",
       "      <td>0.350759</td>\n",
       "      <td>-1.594396</td>\n",
       "    </tr>\n",
       "  </tbody>\n",
       "</table>\n",
       "</div>"
      ],
      "text/plain": [
       "           index         W         X         Y         Z\n",
       "novo_index                                              \n",
       "CA             A  1.668579 -0.799006 -1.165273  0.662561\n",
       "NY             B  0.218352 -0.086417  0.018660 -0.442668\n",
       "WY             C  0.414029 -0.814785 -0.454954 -0.513791\n",
       "OR             D  0.243552  0.271245  0.756073  0.015696\n",
       "CO             E -1.531999 -1.718863  0.350759 -1.594396"
      ]
     },
     "execution_count": 21,
     "metadata": {},
     "output_type": "execute_result"
    }
   ],
   "source": [
    "df.reset_index().set_index(\"novo_index\")"
   ]
  },
  {
   "cell_type": "code",
   "execution_count": null,
   "id": "c923df8b-e3a9-4baf-a149-9f716f1567ea",
   "metadata": {},
   "outputs": [],
   "source": []
  }
 ],
 "metadata": {
  "kernelspec": {
   "display_name": "Python 3 (ipykernel)",
   "language": "python",
   "name": "python3"
  },
  "language_info": {
   "codemirror_mode": {
    "name": "ipython",
    "version": 3
   },
   "file_extension": ".py",
   "mimetype": "text/x-python",
   "name": "python",
   "nbconvert_exporter": "python",
   "pygments_lexer": "ipython3",
   "version": "3.11.5"
  }
 },
 "nbformat": 4,
 "nbformat_minor": 5
}
